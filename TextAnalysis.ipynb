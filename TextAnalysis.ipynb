{
 "cells": [
  {
   "cell_type": "code",
   "execution_count": null,
   "metadata": {},
   "outputs": [],
   "source": [
    "\"\"\"\n",
    "Created on Thu Sep 27 22:31:17 2018\n",
    "\n",
    "@author: snerur\n",
    "\"\"\"\n",
    "\n",
    "#tweets looks like a json file, but is not\n",
    "#read it in and use eval to convert each line to a dictionary\n",
    "#then append it to a list\n",
    "#there should be ten dictionaries in the list\n",
    "\n",
    "\n",
    "\n",
    "#display all the tweets\n",
    "#Check the length of d\n",
    "#Display the first element of d - check its length as well\n",
    "#Get all 'statuses' using key 'statuses'\n",
    "#use each status to get text - text is a key\n",
    "\n",
    "\n",
    "\n",
    "#get the locations from where the tweets were sent, if available\n",
    "\n",
    "\n",
    "\n",
    "\n",
    "#Find the top 5 hashtags used in the tweets - hint look at 'entities'\n",
    "#under each status; then look at 'hashtags' under 'entities'\n",
    "\n",
    "\n",
    "\n",
    "#Create a frequency plot of the top 25 words\n",
    "#hint: use nltk.FreqDist\n",
    "\n",
    "\n",
    "\n",
    "\n",
    "\n",
    "#Display the total sentiment score for each tweet\n",
    "#output should be in the following format:\n",
    "#Tweet#  User   Country      Sentiment Score"
   ]
  }
 ],
 "metadata": {
  "kernelspec": {
   "display_name": "Python 3",
   "language": "python",
   "name": "python3"
  },
  "language_info": {
   "codemirror_mode": {
    "name": "ipython",
    "version": 3
   },
   "file_extension": ".py",
   "mimetype": "text/x-python",
   "name": "python",
   "nbconvert_exporter": "python",
   "pygments_lexer": "ipython3",
   "version": "3.6.5"
  }
 },
 "nbformat": 4,
 "nbformat_minor": 2
}
